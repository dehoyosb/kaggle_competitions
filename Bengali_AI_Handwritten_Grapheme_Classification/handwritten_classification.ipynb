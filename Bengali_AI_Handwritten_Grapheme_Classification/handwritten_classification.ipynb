{
 "cells": [
  {
   "cell_type": "code",
   "execution_count": 1,
   "metadata": {
    "ExecuteTime": {
     "end_time": "2020-01-18T16:41:13.439521Z",
     "start_time": "2020-01-18T16:41:12.951821Z"
    }
   },
   "outputs": [],
   "source": [
    "from PIL import Image\n",
    "import numpy as np\n",
    "import scipy\n",
    "import pandas as pd\n",
    "import pyarrow.parquet as pq"
   ]
  },
  {
   "cell_type": "markdown",
   "metadata": {
    "ExecuteTime": {
     "end_time": "2020-01-18T18:32:37.183537Z",
     "start_time": "2020-01-18T18:32:37.179793Z"
    }
   },
   "source": [
    "### Converting parquet data into images for training"
   ]
  },
  {
   "cell_type": "code",
   "execution_count": 2,
   "metadata": {
    "ExecuteTime": {
     "end_time": "2020-01-18T18:10:48.525093Z",
     "start_time": "2020-01-18T16:41:19.622980Z"
    },
    "scrolled": true
   },
   "outputs": [],
   "source": [
    "for i in range(4):\n",
    "    data_bengali = pq.read_table('bengaliai-cv19/train_image_data_{}.parquet'.format(i)).to_pandas()\n",
    "    for j in range(data_bengali.shape[0]):\n",
    "        image_array = data_bengali.iloc[j].values[1:].reshape(137,236).astype(np.uint8)\n",
    "        name = data_bengali.iloc[j].values[0]\n",
    "        im = Image.fromarray(image_array)\n",
    "        im.save(\"bengali_train_data/{}.png\".format(name))"
   ]
  }
 ],
 "metadata": {
  "kernelspec": {
   "display_name": "Python [conda env:nlp] *",
   "language": "python",
   "name": "conda-env-nlp-py"
  },
  "language_info": {
   "codemirror_mode": {
    "name": "ipython",
    "version": 3
   },
   "file_extension": ".py",
   "mimetype": "text/x-python",
   "name": "python",
   "nbconvert_exporter": "python",
   "pygments_lexer": "ipython3",
   "version": "3.7.3"
  },
  "toc": {
   "base_numbering": 1,
   "nav_menu": {},
   "number_sections": true,
   "sideBar": true,
   "skip_h1_title": false,
   "title_cell": "Table of Contents",
   "title_sidebar": "Contents",
   "toc_cell": false,
   "toc_position": {},
   "toc_section_display": true,
   "toc_window_display": false
  }
 },
 "nbformat": 4,
 "nbformat_minor": 2
}
